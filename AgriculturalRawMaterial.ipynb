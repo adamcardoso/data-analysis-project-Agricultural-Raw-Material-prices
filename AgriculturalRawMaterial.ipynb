{
  "nbformat": 4,
  "nbformat_minor": 0,
  "metadata": {
    "colab": {
      "provenance": [],
      "authorship_tag": "ABX9TyPJcdXSza0PGFyUXFMkq0iJ",
      "include_colab_link": true
    },
    "kernelspec": {
      "name": "python3",
      "display_name": "Python 3"
    },
    "language_info": {
      "name": "python"
    }
  },
  "cells": [
    {
      "cell_type": "markdown",
      "metadata": {
        "id": "view-in-github",
        "colab_type": "text"
      },
      "source": [
        "<a href=\"https://colab.research.google.com/github/adamcardoso/data-analysis-project-Agricultural-Raw-Material-prices/blob/main/AgriculturalRawMaterial.ipynb\" target=\"_parent\"><img src=\"https://colab.research.google.com/assets/colab-badge.svg\" alt=\"Open In Colab\"/></a>"
      ]
    },
    {
      "cell_type": "markdown",
      "source": [
        "**Agricultural Raw Material prices (1990-2020)**\n",
        "\n",
        "https://www.kaggle.com/datasets/kianwee/agricultural-raw-material-prices-19902020"
      ],
      "metadata": {
        "id": "v0Q1O-voUwlB"
      }
    },
    {
      "cell_type": "code",
      "execution_count": 1,
      "metadata": {
        "id": "YKOY5hbvUPv7"
      },
      "outputs": [],
      "source": [
        "# import required packages\n",
        "import numpy as np\n",
        "import pandas as pd"
      ]
    },
    {
      "cell_type": "markdown",
      "source": [
        "**Carregando o conjunto de dados em um quadro de dados usando Pandas**"
      ],
      "metadata": {
        "id": "8SkUchJjWy6w"
      }
    },
    {
      "cell_type": "code",
      "source": [
        "# @title\n",
        "df = pd.read_csv('agricultural_raw_material.csv')"
      ],
      "metadata": {
        "id": "KVf99qhvW3WV"
      },
      "execution_count": 2,
      "outputs": []
    },
    {
      "cell_type": "markdown",
      "source": [
        "**Explorando o conjunto de dados**"
      ],
      "metadata": {
        "id": "skC1Wh9HXAGL"
      }
    },
    {
      "cell_type": "code",
      "source": [
        "df.info\n",
        "\n",
        "# checking null values of each column\n",
        "df.isnull().sum()\n"
      ],
      "metadata": {
        "colab": {
          "base_uri": "https://localhost:8080/"
        },
        "id": "qk6Vn6kOXFQo",
        "outputId": "08df8e2a-fd1b-45c9-a133-1d62d406dcf1"
      },
      "execution_count": 3,
      "outputs": [
        {
          "output_type": "execute_result",
          "data": {
            "text/plain": [
              "Month                            0\n",
              "Coarse wool Price               34\n",
              "Coarse wool price % Change      34\n",
              "Copra Price                     22\n",
              "Copra price % Change            22\n",
              "Cotton Price                     0\n",
              "Cotton price % Change            0\n",
              "Fine wool Price                 34\n",
              "Fine wool price % Change        34\n",
              "Hard log Price                   0\n",
              "Hard log price % Change          0\n",
              "Hard sawnwood Price             34\n",
              "Hard sawnwood price % Change    34\n",
              "Hide Price                      34\n",
              "Hide price % change             34\n",
              "Plywood Price                    0\n",
              "Plywood price % Change           0\n",
              "Rubber Price                     0\n",
              "Rubber price % Change            0\n",
              "Softlog Price                   34\n",
              "Softlog price % Change          34\n",
              "Soft sawnwood Price             34\n",
              "Soft sawnwood price % Change    34\n",
              "Wood pulp Price                  1\n",
              "Wood pulp price % Change         1\n",
              "dtype: int64"
            ]
          },
          "metadata": {},
          "execution_count": 3
        }
      ]
    }
  ]
}